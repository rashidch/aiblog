{
 "cells": [
  {
   "attachments": {
    "image.png": {
     "image/png": "[encoded data removed]"
    }
   },
   "cell_type": "markdown",
   "metadata": {},
   "source": [
    "# Regularized Linear Model (Polynomial Basis) Regression using Numpy\n",
    "* How to implement polynomial regression from scratch using numpy\n",
    "* Optimize polynomial with both Least Square Error (LSE) and Newton's method.\n",
    "* Plot the fitted curve\n",
    "* Input parameters: \n",
    "    1. The file path and name of a file of which each row represents a data point (common seperated: x,y): \n",
    "        1,12\n",
    "        122,34\n",
    "        -12,323\n",
    "         ...\n",
    "    2. The number of polynomial bases n.\n",
    "       ![image.png](attachment:image.png) \n",
    "    3. Lambda\n",
    "* Functionality:\n",
    "    1. LSE is implemented using LU decomposition\n",
    "    2. Newton's method optimization is implemented.\n",
    "    3. The best fitting curve data points are visualized."
   ]
  },
  {
   "cell_type": "code",
   "execution_count": 3,
   "metadata": {},
   "outputs": [],
   "source": [
    "import numpy as np\n",
    "import matplotlib.pyplot as plt\n",
    "from collections import OrderedDict\n",
    "%matplotlib inline"
   ]
  },
  {
   "cell_type": "code",
   "execution_count": 4,
   "metadata": {},
   "outputs": [],
   "source": [
    "def generate_data(init, end, num_points, plot=1):\n",
    "    \"\"\"\n",
    "    \n",
    "    x_pts : 1-d array, shape = [num_points,]     \n",
    "    y_pts : 1-d array, shape = [num_points,]\n",
    "\n",
    "    \"\"\"\n",
    "    #declare a list of coefficients \n",
    "    coeff=[5,1,1]\n",
    "    noise=2\n",
    "    # generate x_coordinate of line\n",
    "    x = np.arange(init,end,(end-init)/num_points)\n",
    "    line = coeff[0]\n",
    "    #generate y_coordinates of line\n",
    "    for idx in np.arange(1, len(coeff)):\n",
    "        line += coeff[idx]*x**idx\n",
    "        if noise>0:\n",
    "            y= np.random.normal(-(10**noise), 10**noise, len(x))+line\n",
    "        else: y= line\n",
    "    if plot==1:\n",
    "        plt.figure(figsize=(10,6))\n",
    "        plt.scatter(x, y, color='r')\n",
    "        plt.xlabel('x')\n",
    "        plt.ylabel('y')\n",
    "        \n",
    "    return x, y"
   ]
  },
  {
   "cell_type": "code",
   "execution_count": 5,
   "metadata": {},
   "outputs": [
    {
     "data": {
      "image/png": "[encoded data removed]",
      "text/plain": [
       "<Figure size 720x432 with 1 Axes>"
      ]
     },
     "metadata": {
      "needs_background": "light"
     },
     "output_type": "display_data"
    }
   ],
   "source": [
    "x,y=generate_data(0,50,100)"
   ]
  },
  {
   "cell_type": "code",
   "execution_count": 6,
   "metadata": {},
   "outputs": [],
   "source": [
    "def hypothesis(x, theta):\n",
    "    \"\"\"\n",
    "    h(x) = theta_0*(x_1**0) + theta_1*(x_1**1) + ...+ theta_n*(x_1 ** n)\n",
    "    \n",
    "    \"\"\"\n",
    "    h = theta[0]\n",
    "    for i in np.arange(1,len(theta)):\n",
    "        h+= theta[i]*x**i\n",
    "    \n",
    "    return h"
   ]
  },
  {
   "cell_type": "code",
   "execution_count": 7,
   "metadata": {},
   "outputs": [],
   "source": [
    "# Calculate inverse of matrix using Doolittle’s LU Decomposition Method\n",
    "\n",
    "def swapRows( M,i,j):\n",
    "    \"\"\"\n",
    "    Swaping:\n",
    "    ----------\n",
    "    swapRows(M,i,j).\n",
    "    Swaps rows i and j of a vector or matrix [v].\n",
    "        \n",
    "    \"\"\"\n",
    "    if len(M.shape) == 1:\n",
    "        M[i],M[j] = M[j],M[i]\n",
    "    else:\n",
    "        M[[i,j],:] = M[[j,i],:]\n",
    "        \n",
    "def swapCols(M,i,j):\n",
    "    \"\"\"\n",
    "    Swaping:\n",
    "    ----------\n",
    "    swapCols(M,i,j).\n",
    "    Swaps columns of matrix [M].\n",
    "        \n",
    "    \"\"\"\n",
    "    M[:,[i,j]] = M[:,[j,i]]\n",
    "    \n",
    "def LUdecomp(a,tol=1.0e-9):\n",
    "    n = len(a)\n",
    "    seq = np.array(range(n))\n",
    "    \n",
    "    # Set up scale factors\n",
    "    s = np.zeros((n))\n",
    "    for i in range(n):\n",
    "        s[i] = max(abs(a[i,:]))\n",
    "        \n",
    "    for k in range(0,n-1):\n",
    "        # Row interchange, if needed\n",
    "        p = np.argmax(np.abs(a[k:n,k])/s[k:n]) + k\n",
    "        if abs(a[p,k]) < tol: print('Matrix is singular')\n",
    "        if p != k:\n",
    "            swapRows(s,k,p)\n",
    "            swapRows(a,k,p)\n",
    "            swapRows(seq,k,p)\n",
    "        # Elimination\n",
    "        for i in range(k+1,n):\n",
    "            if a[i,k] != 0.0:\n",
    "                lam = a[i,k]/a[k,k]\n",
    "                a[i,k+1:n] = a[i,k+1:n] - lam*a[k,k+1:n]\n",
    "                a[i,k] = lam\n",
    "    return a, seq\n",
    "\n",
    "\n",
    "def LUsolve(a,b,seq):\n",
    "    \"\"\"\n",
    "    Solve Linear equations\n",
    "    -------------\n",
    "    x = LUsolve(a,b)\n",
    "    Solution phase: solves [L][U]{x} = {b}\n",
    "        \n",
    "    \"\"\"\n",
    "    n = len(a)\n",
    "    # Rearrange constant vector; store it in [x]\n",
    "    x = b.copy()\n",
    "    for i in range(n):\n",
    "        #print(seq[i])\n",
    "        x[i] = b[seq[i]]\n",
    "    # Solution\n",
    "    for k in range(1,n):\n",
    "        x[k] = x[k] - np.dot(a[k,0:k],x[0:k])\n",
    "    x[n-1] = x[n-1]/a[n-1,n-1]\n",
    "    for k in range(n-2,-1,-1):\n",
    "        x[k] = (x[k] - np.dot(a[k,k+1:n],x[k+1:n]))/a[k,k]\n",
    "    return x\n",
    "    \n",
    "def matInv(a):\n",
    "    \"\"\"\n",
    "    Calacute inverse of matrix a:\n",
    "    ----------------------------\n",
    "    input matrix:a\n",
    "    retrun: aInv\n",
    "        \n",
    "    \"\"\"\n",
    "    n = len(a[0])\n",
    "    aInv = np.identity(n)\n",
    "    a,seq = LUdecomp(a)\n",
    "    for i in range(n):\n",
    "        aInv[:,i] = LUsolve(a,aInv[:,i],seq)\n",
    "    return aInv\n"
   ]
  },
  {
   "cell_type": "code",
   "execution_count": 8,
   "metadata": {},
   "outputs": [],
   "source": [
    "def calculate_error(theta, x, y):\n",
    "        \n",
    "        m = len(y)  \n",
    "        h = hypothesis(x, theta)\n",
    "        errors = h-y\n",
    "        \n",
    "        return (1/(2*m))*np.sum(errors**2) \n",
    "    "
   ]
  },
  {
   "cell_type": "code",
   "execution_count": 9,
   "metadata": {},
   "outputs": [],
   "source": [
    "def print_line(theta):\n",
    "    \n",
    "    fit_line=''\n",
    "    fit_line = fit_line+str(theta[0])\n",
    "    for i in np.arange(1, len(theta)): \n",
    "            \n",
    "        fit_line = fit_line+' + ' + str(theta[i]) + r'x^' + str(i)  \n",
    "        \n",
    "    print(\"Fitting Line::::\",fit_line)"
   ]
  },
  {
   "cell_type": "code",
   "execution_count": 10,
   "metadata": {},
   "outputs": [],
   "source": [
    "#fit curve using normal equation method\n",
    "\n",
    "def fit_NormalEq(lamda, order, x,y):\n",
    "        \n",
    "    \"\"\"\n",
    "    \n",
    "    Fit theta to the training data to the model of the form:\n",
    "        h(x) = theta_0*(x_1**0) + theta_1*(x_1**1) + ...+ theta_n*(x_1 ** n)\n",
    "        \n",
    "    \"\"\"\n",
    "    d = {}\n",
    "    d['x' + str(0)] = np.ones([1,len(x)])[0]    \n",
    "    \n",
    "    for i in np.arange(1, order+1):                \n",
    "        d['x' + str(i)] = x ** (i)        \n",
    "        \n",
    "    d = OrderedDict(sorted(d.items(), key=lambda t: t[0]))\n",
    "    X = np.column_stack(d.values())  \n",
    "    print('X matrix dimension', X.shape)\n",
    "    I = np.eye(order+1)*lamda*order\n",
    "    \n",
    "    theta = np.matmul(np.matmul(matInv(np.matmul(np.transpose(X),X)+I), np.transpose(X)), y)\n",
    "\n",
    "               \n",
    "    return theta\n",
    "    "
   ]
  },
  {
   "cell_type": "code",
   "execution_count": 11,
   "metadata": {},
   "outputs": [],
   "source": [
    "def fit_newtonMT(lamda,order,x,y):\n",
    "    \n",
    "    theta = np.ones(order+1)\n",
    "    \n",
    "    d={}\n",
    "    d['x'+str(0)]= np.ones([1,len(x)])[0]\n",
    "    \n",
    "    for i in range(1,order+1):\n",
    "        \n",
    "        d['x'+str(i)]= x**i\n",
    "        \n",
    "    d= OrderedDict(sorted(d.items(),key=lambda t :t[0]))\n",
    "    X = np.column_stack(d.values())  \n",
    "    I = np.eye(order+1)*lamda\n",
    "    \n",
    "    while True:\n",
    "        a = matInv(np.matmul(np.transpose(X),X) + I)\n",
    "        b = np.matmul(np.matmul(np.transpose(X),X),theta) \n",
    "        c = np.matmul(np.transpose(X),y)\n",
    "        d = np.matmul(I,theta)\n",
    "        \n",
    "        new_theta = theta - np.matmul(a,(b - c + d))\n",
    "        \n",
    "        if abs(calculate_error(new_theta, x, y) - calculate_error(theta, x, y)) < 0.0001:\n",
    "            break\n",
    "        theta = new_theta\n",
    "        \n",
    "    return new_theta"
   ]
  },
  {
   "cell_type": "code",
   "execution_count": 12,
   "metadata": {},
   "outputs": [],
   "source": [
    "def plot_predictedPolyLine(theta,x,y):\n",
    "        \n",
    "    plt.figure(figsize=(10,6))\n",
    "    plt.scatter(x, y, s = 30, c = 'r') \n",
    "    line = theta[0] #y-intercept \n",
    "    label_holder = []\n",
    "    label_holder.append('%.*f' % (2, theta[0]))\n",
    "    \n",
    "    for i in np.arange(1, len(theta)):            \n",
    "        line += theta[i] * x ** i \n",
    "        label_holder.append(' + ' +'%.*f' % (2, theta[i]) + r'$x^' + str(i) + '$') \n",
    "        \n",
    "    plt.plot(x, line, label = ''.join(label_holder), color='g')        \n",
    "    plt.title('Polynomial Fit: Order ' + str(len(theta)-1))\n",
    "    plt.xlabel('x')\n",
    "    plt.ylabel('y') \n",
    "    plt.legend(loc = 'best')   "
   ]
  },
  {
   "cell_type": "code",
   "execution_count": 13,
   "metadata": {},
   "outputs": [
    {
     "name": "stdout",
     "output_type": "stream",
     "text": [
      "*******Demo of Polynomial Regression********\n",
      "  \n",
      "Input the number of polynomial bases:  4\n",
      "Input the lambda value for regularization:  6\n",
      "------------------------\n",
      "  \n",
      "Newton Method:\n",
      "Fitting Line:::: -45.83591013665996 + -9.970455748787613x^1 + 1.5612373069259553x^2 + -0.008712843711862034x^3 + 2.4201524739225014e-05x^4\n",
      " \n",
      "Prediction error: 4954.219152006292\n",
      "------------------------\n"
     ]
    },
    {
     "name": "stderr",
     "output_type": "stream",
     "text": [
      "C:\\Users\\rashi\\anaconda3\\envs\\flow_14\\lib\\site-packages\\ipykernel_launcher.py:13: FutureWarning: arrays to stack must be passed as a \"sequence\" type such as list or tuple. Support for non-sequence iterables such as generators is deprecated as of NumPy 1.16 and will raise an error in the future.\n",
      "  del sys.path[0]\n"
     ]
    }
   ],
   "source": [
    "print(\"*******Demo of Polynomial Regression********\")\n",
    "print(\"  \")\n",
    "order = input(\"Input the number of polynomial bases:  \")\n",
    "order = int(order)\n",
    "lamda = input(\"Input the lambda value for regularization:  \")\n",
    "lamda = float(lamda)\n",
    "print(\"------------------------\")\n",
    "print(\"  \")\n",
    "theta = fit_newtonMT(lamda,order,x,y)\n",
    "error = calculate_error(theta,x,y)\n",
    "print(\"Newton Method:\")\n",
    "print_line(theta)\n",
    "print(\" \")\n",
    "print(\"Prediction error:\", error)\n",
    "print(\"------------------------\")"
   ]
  },
  {
   "cell_type": "code",
   "execution_count": 14,
   "metadata": {},
   "outputs": [
    {
     "data": {
      "image/png": "[encoded data removed]",
      "text/plain": [
       "<Figure size 720x432 with 1 Axes>"
      ]
     },
     "metadata": {
      "needs_background": "light"
     },
     "output_type": "display_data"
    }
   ],
   "source": [
    "plot_predictedPolyLine(theta,x,y)"
   ]
  },
  {
   "cell_type": "code",
   "execution_count": 15,
   "metadata": {},
   "outputs": [
    {
     "name": "stdout",
     "output_type": "stream",
     "text": [
      "*******Demo of Polynomial Regression********\n",
      "  \n",
      "Input the number of polynomial bases:  5\n",
      "Input the lambda value for regularization:  7\n",
      "------------------------\n",
      "  \n",
      "X matrix dimension (100, 6)\n",
      "LSE:\n",
      "Fitting Line:::: -15.800709930519798 + -7.858887568115296x^1 + 0.4020051171386698x^2 + 0.07514825478930498x^3 + -0.002154536774397562x^4 + 1.8984328814073015e-05x^5\n",
      " \n",
      "Prediction error: 5043.317746187734\n",
      "------------------------\n"
     ]
    },
    {
     "name": "stderr",
     "output_type": "stream",
     "text": [
      "C:\\Users\\rashi\\anaconda3\\envs\\flow_14\\lib\\site-packages\\ipykernel_launcher.py:18: FutureWarning: arrays to stack must be passed as a \"sequence\" type such as list or tuple. Support for non-sequence iterables such as generators is deprecated as of NumPy 1.16 and will raise an error in the future.\n"
     ]
    }
   ],
   "source": [
    "print(\"*******Demo of Polynomial Regression********\")\n",
    "print(\"  \")\n",
    "order = input(\"Input the number of polynomial bases:  \")\n",
    "order = int(order)\n",
    "lamda = input(\"Input the lambda value for regularization:  \")\n",
    "lamda = float(lamda)\n",
    "print(\"------------------------\")\n",
    "print(\"  \")\n",
    "theta = fit_NormalEq(lamda,order,x,y)\n",
    "error = calculate_error(theta,x,y)\n",
    "print(\"LSE:\")\n",
    "print_line(theta)\n",
    "print(\" \")\n",
    "print(\"Prediction error:\", error)\n",
    "print(\"------------------------\")"
   ]
  },
  {
   "cell_type": "code",
   "execution_count": 16,
   "metadata": {},
   "outputs": [
    {
     "data": {
      "image/png": "[encoded data removed]",
      "text/plain": [
       "<Figure size 720x432 with 1 Axes>"
      ]
     },
     "metadata": {
      "needs_background": "light"
     },
     "output_type": "display_data"
    }
   ],
   "source": [
    "plot_predictedPolyLine(theta,x,y)"
   ]
  },
  {
   "cell_type": "code",
   "execution_count": null,
   "metadata": {
    "collapsed": true
   },
   "outputs": [],
   "source": []
  }
 ],
 "metadata": {
  "kernelspec": {
   "display_name": "Python 3",
   "language": "python",
   "name": "python3"
  },
  "language_info": {
   "codemirror_mode": {
    "name": "ipython",
    "version": 3
   },
   "file_extension": ".py",
   "mimetype": "text/x-python",
   "name": "python",
   "nbconvert_exporter": "python",
   "pygments_lexer": "ipython3",
   "version": "3.7.8"
  }
 },
 "nbformat": 4,
 "nbformat_minor": 2
}
