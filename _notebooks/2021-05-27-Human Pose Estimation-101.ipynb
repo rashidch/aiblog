{
 "cells": [
  {
   "cell_type": "markdown",
   "metadata": {},
   "source": [
    "# Human Pose estimation 101:\n",
    "![](/images/pose-101.jpg)"
   ]
  },
  {
   "cell_type": "markdown",
   "metadata": {},
   "source": [
    "## Basics:\n",
    "\n",
    "* Pose estimation is defined as the problem of localization of human joints.\n",
    "* Pose estimation is the search for a specific pose in space of all articulated (jointed, connected) poses \n",
    "* Number of key points varies with the datasets - LSP has 14, MPII has 16, 16 are used in Human3.6m \n",
    "* Pose estimation is classified into 2d and 3d pose estimation:\n",
    "  * 2D  pose estimation estimates a 2d pose (x,y) coordinates for each joint in pixel space from a RGB image\n",
    "  * 3D pose estimation estimation a 3D pose (x,y,z) coordinates in metric space from a RGB image\n",
    "\n",
    "## Loss function:\n",
    "\n",
    "* Most commonly used loss function - Mean Squared Error, MSE(Least Squares Loss)\n",
    "* This is a regression problem. The model will try to regress to the correct coordinates i.e., move to the truth coordinates in small increments. The mode is trained to output continuous coordinates using a Mean Squared Error Loss function\n",
    "\n",
    "## Evaluation metrics:\n",
    "\n",
    "1. Percentage of correct keypoints \n",
    "    * The detected joint is considered  correct if the distance between the  predicted and the true joint is within a certain threshold (threshold varies)\n",
    "    * PCK@0.5 is when the threshold=50% of the head bone link\n",
    "    * PCK@0.2 == distance between predicted and true joint <0.2*torso diameter \n",
    "    * Sometimes 150 mm is taken as the threshold\n",
    "    * Head, shoulder Elbow, Wrist, Hip, Knee Ankle → keypoints\n",
    "    * PCK is used as 2D and 3D pose estimation\n",
    "    * Higher the better \n",
    "2. Average Precision (AP) and Average Recall (AR)\n",
    "* Average precision is used to measure the accuracy of keypoints detection according to precision and recall \n",
    "* Precision is the ratio of true positives results to the total positive results. \n",
    "* Recall is the ratio of true positive results to the number of ground truth positives\n",
    "* AP has several variants e.g., mean average precision (mAp) and average precision of keypoints (APK) \n",
    "* Object keypoints similarity plays a similar(OKS) role as intersection of union (IOU) in object detection. This measure is computed from the scale of the subject and the distance between predicted points and ground truth points. The evaluation usually uses mAP across 10 OKS threshold as the evaluation metric \n",
    "\n",
    "## Application of Human Pose Estimation:\n",
    "\n",
    "* Action recognition, prediction, detection and tracking\n",
    "* Cloth parsing \n",
    "* Animation movie and gaming \n",
    "* Augmented Reality (AR) and Virtual Reality (VR)\n",
    "* Healthcare (Human Fall Detection)"
   ]
  },
  {
   "cell_type": "code",
   "execution_count": null,
   "metadata": {},
   "outputs": [],
   "source": []
  },
  {
   "cell_type": "code",
   "execution_count": null,
   "metadata": {},
   "outputs": [],
   "source": []
  },
  {
   "cell_type": "code",
   "execution_count": null,
   "metadata": {},
   "outputs": [],
   "source": []
  },
  {
   "cell_type": "code",
   "execution_count": null,
   "metadata": {},
   "outputs": [],
   "source": []
  },
  {
   "cell_type": "code",
   "execution_count": null,
   "metadata": {},
   "outputs": [],
   "source": []
  },
  {
   "cell_type": "code",
   "execution_count": null,
   "metadata": {},
   "outputs": [],
   "source": []
  }
 ],
 "metadata": {
  "kernelspec": {
   "display_name": "Python [conda env:alphapose] *",
   "language": "python",
   "name": "conda-env-alphapose-py"
  },
  "language_info": {
   "codemirror_mode": {
    "name": "ipython",
    "version": 3
   },
   "file_extension": ".py",
   "mimetype": "text/x-python",
   "name": "python",
   "nbconvert_exporter": "python",
   "pygments_lexer": "ipython3",
   "version": "3.6.12"
  }
 },
 "nbformat": 4,
 "nbformat_minor": 4
}
