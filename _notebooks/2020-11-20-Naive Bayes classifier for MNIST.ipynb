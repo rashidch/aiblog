{
 "cells": [
  {
   "cell_type": "markdown",
   "metadata": {},
   "source": [
    "# Implementation Naive Bayes classifier and Online Learning   \n",
    "* "
   ]
  },
  {
   "cell_type": "code",
   "execution_count": 41,
   "metadata": {
    "collapsed": true
   },
   "outputs": [],
   "source": [
    "import numpy as np\n",
    "from functools import reduce\n",
    "%matplotlib inline\n",
    "from functools import reduce\n",
    "import matplotlib.pyplot as plt\n",
    "from math import log, sqrt, exp, pi, factorial, erf"
   ]
  },
  {
   "cell_type": "code",
   "execution_count": 42,
   "metadata": {
    "collapsed": true
   },
   "outputs": [],
   "source": [
    "class load_file():\n",
    "    def __init__(self, file):\n",
    "        self.filename = file\n",
    "        self.dset = []\n",
    "        \n",
    "        with open(self.filename, mode='rb') as f:\n",
    "            magic_number = f.read(4) # read first four bytes\n",
    "            \n",
    "            self.n_dim = magic_number[-1] #n_dim=3\n",
    "            \n",
    "            self.n_dims = [int.from_bytes(f.read(4), byteorder='big') for _ in range(self.n_dim)] #n_dims=[60000,28,28]\n",
    "            #read a vector of size 784 for each iteration \n",
    "            for idx in range(self.n_dims[0]):\n",
    "                item = f.read(reduce(lambda x,y: x*y, (self.n_dims[1:] + [1]))) \n",
    "        \n",
    "                self.dset.append(item)"
   ]
  },
  {
   "cell_type": "code",
   "execution_count": 43,
   "metadata": {
    "collapsed": true
   },
   "outputs": [],
   "source": [
    "file_1 = 'train-images.idx3-ubyte'\n",
    "file_2 = 'train-labels.idx1-ubyte'\n",
    "file_3 = 't10k-images.idx3-ubyte'\n",
    "file_4 = 't10k-labels.idx1-ubyte'"
   ]
  },
  {
   "cell_type": "code",
   "execution_count": 44,
   "metadata": {
    "collapsed": true
   },
   "outputs": [],
   "source": [
    "train_x = load_file(file_1)\n",
    "train_y = load_file(file_2)\n",
    "test_x  = load_file(file_3)\n",
    "test_y  = load_file(file_4)"
   ]
  },
  {
   "cell_type": "code",
   "execution_count": 45,
   "metadata": {},
   "outputs": [
    {
     "data": {
      "text/plain": [
       "(60000, 60000, 10000, 10000)"
      ]
     },
     "execution_count": 45,
     "metadata": {},
     "output_type": "execute_result"
    }
   ],
   "source": [
    "len(train_x.dset), len(train_y.dset), len(test_x.dset), len(test_y.dset)"
   ]
  },
  {
   "cell_type": "code",
   "execution_count": 46,
   "metadata": {
    "collapsed": true
   },
   "outputs": [],
   "source": [
    "def showImage(byte, row = 28, col = 28):\n",
    "    im = [[byte[i*28 + j] for j in range(col)] for i in range(row)]\n",
    "    \n",
    "    plt.imshow(im, cmap='gray')"
   ]
  },
  {
   "cell_type": "code",
   "execution_count": 47,
   "metadata": {},
   "outputs": [
    {
     "name": "stdout",
     "output_type": "stream",
     "text": [
      "labels [10] : 3\n"
     ]
    },
    {
     "data": {
      "image/png": "[encoded data removed]",
      "text/plain": [
       "<matplotlib.figure.Figure at 0x1f0a7492470>"
      ]
     },
     "metadata": {},
     "output_type": "display_data"
    }
   ],
   "source": [
    "data_idx = 10\n",
    "showImage(train_x.dset[data_idx])\n",
    "print(\"labels [{}] : {}\".format(data_idx, train_y.dset[data_idx][0]))"
   ]
  },
  {
   "cell_type": "markdown",
   "metadata": {},
   "source": [
    "# Discrete"
   ]
  },
  {
   "cell_type": "code",
   "execution_count": 53,
   "metadata": {
    "collapsed": true
   },
   "outputs": [],
   "source": [
    "# cnt_pixels[class][pixels][bins]\n",
    "def cnt_pixclass(train_x, train_y, w = 28, h = 28, nc = 10, bins = 10**-6):\n",
    "    \n",
    "    pixels_cnt = [[[bins for _ in range(32)] for _ in range(w * h)] for _ in range(nc)]\n",
    "    \n",
    "    classes_cnt = [0 for _ in range(nc)]\n",
    "\n",
    "    for indx, data in enumerate(train_x):\n",
    "        \n",
    "        \n",
    "        classes_cnt[train_y[indx][0]] += 1\n",
    "        \n",
    "        for i in range(len(data)):\n",
    "            pixels_cnt[train_y[indx][0]][i][data[i] >> 3] += 1\n",
    "                \n",
    "    return classes_cnt, pixels_cnt"
   ]
  },
  {
   "cell_type": "code",
   "execution_count": 58,
   "metadata": {
    "collapsed": true
   },
   "outputs": [],
   "source": [
    "def fit_posterior_disc(test_x, test_y, classes_cnt, pixels_cnt):\n",
    "    posterior = [[0 for _ in range(10)] for _ in range(len(test_x))]\n",
    "    accuracy = 0\n",
    "    \n",
    "    for indx, data in enumerate(test_x):\n",
    "        for y in range(10):\n",
    "            for i in range(len(data)):\n",
    "                \n",
    "                posterior[indx][y] += log(pixels_cnt[y][i][data[i] >> 3])\n",
    "                \n",
    "            posterior[indx][y] -= (len(data) - 1 ) * log(classes_cnt[y])\n",
    "            #posterior[idx][label] += log(cnt_classes[label])\n",
    "            \n",
    "        pred = np.argmax(posterior[indx])\n",
    "        answ = test_y[indx][0]\n",
    "        \n",
    "        if pred == answ:\n",
    "            accuracy += 1\n",
    "    print(\"Accuracy on test images:\", accuracy/len(test_y))\n",
    "    return posterior, accuracy "
   ]
  },
  {
   "cell_type": "code",
   "execution_count": 75,
   "metadata": {
    "collapsed": true
   },
   "outputs": [],
   "source": [
    "def predict(test_labels, posterior,indx):\n",
    "    p=np.array(posterior[indx])/np.array(posterior[indx]).sum()\n",
    "    print('Posterior (in log scale):\\n')\n",
    "    for key in (range(0,len(p))):\n",
    "        print(key,':',p[key]) #print marginalized posterior \n",
    "\n",
    "    print(\"index: {}\\t label : {}\\t predict : {}\".format(indx, test_y.dset[indx][0], np.argmax(posterior[indx])))"
   ]
  },
  {
   "cell_type": "code",
   "execution_count": 67,
   "metadata": {
    "collapsed": true
   },
   "outputs": [],
   "source": [
    "def imagination_discrete(count_pixels,label=0):\n",
    "    pixel_sum_015=0\n",
    "    pixel_sum_031=0\n",
    "    img_num =[0 for _ in range (28*28)]\n",
    "    for i in range (784):\n",
    "        for k in range(32):\n",
    "            if k<16:\n",
    "                pixel_sum_015=pixel_sum_015+count_pixels[label][i][k]\n",
    "            else:\n",
    "                pixel_sum_031=pixel_sum_031+count_pixels[label][i][k]\n",
    "            \n",
    "        if pixel_sum_015>pixel_sum_031:\n",
    "            img_num[i]=0\n",
    "            pixel_sum_015=0\n",
    "        else:\n",
    "            img_num[i]=1\n",
    "            pixel_sum_031=0 \n",
    "    img_num=np.array(img_num).reshape(28,28)\n",
    "    print(img_num)\n",
    "    \n",
    "    #plt.imshow(img_num)"
   ]
  },
  {
   "cell_type": "markdown",
   "metadata": {},
   "source": [
    "# Run Discrete Naive Bayes"
   ]
  },
  {
   "cell_type": "code",
   "execution_count": 68,
   "metadata": {},
   "outputs": [
    {
     "name": "stdout",
     "output_type": "stream",
     "text": [
      "Accuracy on test images: 0.8508\n"
     ]
    }
   ],
   "source": [
    "cnt_classes, cnt_pixels = cnt_pixclass(train_x.dset, train_y.dset)\n",
    "posterior, accuracy = fit_posterior_disc(test_x.dset, test_y.dset, cnt_classes, cnt_pixels)"
   ]
  },
  {
   "cell_type": "code",
   "execution_count": 76,
   "metadata": {},
   "outputs": [
    {
     "name": "stdout",
     "output_type": "stream",
     "text": [
      "Posterior (in log scale):\n",
      "\n",
      "0 : 0.10791986716830107\n",
      "1 : 0.14022635805906106\n",
      "2 : 0.10101108316185439\n",
      "3 : 0.0934057462599313\n",
      "4 : 0.0829546091731439\n",
      "5 : 0.0885178550027136\n",
      "6 : 0.11456577642271916\n",
      "7 : 0.09194392970975554\n",
      "8 : 0.09068244277920456\n",
      "9 : 0.08877233226331545\n",
      "index: 6\t label : 4\t predict : 4\n"
     ]
    }
   ],
   "source": [
    "predict(test_y, posterior,indx=6)"
   ]
  },
  {
   "cell_type": "code",
   "execution_count": 77,
   "metadata": {},
   "outputs": [
    {
     "name": "stdout",
     "output_type": "stream",
     "text": [
      "[[0 0 0 0 0 0 0 0 0 0 0 0 0 0 0 0 0 0 0 0 0 0 0 0 0 0 0 0]\n",
      " [0 0 0 0 0 0 0 0 0 0 0 0 0 0 0 0 0 0 0 0 0 0 0 0 0 0 0 0]\n",
      " [0 0 0 0 0 0 0 0 0 0 0 0 0 0 0 0 0 0 0 0 0 0 0 0 0 0 0 0]\n",
      " [0 0 0 0 0 0 0 0 0 0 0 0 0 0 0 0 0 0 0 0 0 0 0 0 0 0 0 0]\n",
      " [0 0 0 0 0 0 0 0 0 0 0 0 1 0 0 1 0 0 0 0 0 0 0 0 0 0 0 0]\n",
      " [0 0 0 0 0 0 0 0 1 0 1 0 1 0 1 0 1 0 1 0 0 0 0 0 0 0 0 0]\n",
      " [0 0 0 0 0 0 0 1 0 1 0 1 1 0 1 1 0 1 0 1 0 0 0 0 0 0 0 0]\n",
      " [0 0 0 0 0 0 0 1 0 1 0 1 0 1 0 1 0 1 0 1 0 0 0 0 0 0 0 0]\n",
      " [0 0 0 0 0 0 0 1 0 0 1 0 0 1 0 1 0 1 0 1 0 0 0 0 0 0 0 0]\n",
      " [0 0 0 0 0 0 0 0 1 0 0 0 0 1 0 1 0 1 0 1 0 0 0 0 0 0 0 0]\n",
      " [0 0 0 0 0 0 0 0 0 0 0 1 0 0 1 0 1 0 1 0 0 0 0 0 0 0 0 0]\n",
      " [0 0 0 0 0 0 0 0 0 0 1 0 0 1 0 1 1 0 1 0 0 0 0 0 0 0 0 0]\n",
      " [0 0 0 0 0 0 0 0 0 0 1 0 1 1 0 1 1 0 1 0 0 0 0 0 0 0 0 0]\n",
      " [0 0 0 0 0 0 0 0 0 0 1 0 1 1 1 0 1 0 1 0 0 0 0 0 0 0 0 0]\n",
      " [0 0 0 0 0 0 0 0 0 1 0 1 0 1 0 1 0 1 0 1 0 0 0 0 0 0 0 0]\n",
      " [0 0 0 0 0 0 0 0 0 0 1 0 1 0 1 0 1 0 1 0 1 0 0 0 0 0 0 0]\n",
      " [0 0 0 0 0 0 0 0 0 0 0 0 1 0 0 0 1 0 1 0 1 0 0 0 0 0 0 0]\n",
      " [0 0 0 0 0 0 0 0 0 0 0 0 0 0 1 0 0 1 0 1 0 0 0 0 0 0 0 0]\n",
      " [0 0 0 0 0 0 1 0 0 0 0 0 0 0 0 0 1 0 1 0 1 0 0 0 0 0 0 0]\n",
      " [0 0 0 0 0 0 0 1 0 0 0 0 0 0 1 0 1 0 1 0 1 0 0 0 0 0 0 0]\n",
      " [0 0 0 0 0 0 1 0 0 1 0 0 0 1 0 1 0 1 0 1 0 0 0 0 0 0 0 0]\n",
      " [0 0 0 0 0 1 0 1 0 1 0 1 0 1 0 1 1 0 1 0 0 0 0 0 0 0 0 0]\n",
      " [0 0 0 0 0 1 0 1 0 1 0 1 1 0 1 1 0 1 0 0 0 0 0 0 0 0 0 0]\n",
      " [0 0 0 0 0 0 1 0 1 0 1 0 1 1 0 1 0 0 0 0 0 0 0 0 0 0 0 0]\n",
      " [0 0 0 0 0 0 0 1 0 0 0 1 0 0 1 0 0 0 0 0 0 0 0 0 0 0 0 0]\n",
      " [0 0 0 0 0 0 0 0 0 0 0 0 0 0 0 0 0 0 0 0 0 0 0 0 0 0 0 0]\n",
      " [0 0 0 0 0 0 0 0 0 0 0 0 0 0 0 0 0 0 0 0 0 0 0 0 0 0 0 0]\n",
      " [0 0 0 0 0 0 0 0 0 0 0 0 0 0 0 0 0 0 0 0 0 0 0 0 0 0 0 0]]\n"
     ]
    }
   ],
   "source": [
    "imagination_discrete(cnt_pixels,label=3)"
   ]
  },
  {
   "cell_type": "code",
   "execution_count": 78,
   "metadata": {},
   "outputs": [
    {
     "data": {
      "text/plain": [
       "'Discrete Error rate : 0.1492'"
      ]
     },
     "execution_count": 78,
     "metadata": {},
     "output_type": "execute_result"
    }
   ],
   "source": [
    "\"Discrete Error rate : {}\".format(1-(accuracy/len(test_x.dset)))"
   ]
  },
  {
   "cell_type": "markdown",
   "metadata": {},
   "source": [
    "# Continous "
   ]
  },
  {
   "cell_type": "code",
   "execution_count": 79,
   "metadata": {
    "collapsed": true
   },
   "outputs": [],
   "source": [
    "def extract_pixels(train_x,train_y):\n",
    "    pixels = [[[] for _ in range(28*28)] for _ in range(10)]\n",
    "\n",
    "    for indx, data in enumerate(train_x):\n",
    "        for i in range(len(data)):\n",
    "            pixels[train_y[indx][0]][i].append(data[i])\n",
    "            \n",
    "    return pixels\n",
    "    \n",
    "def normal(u, v):\n",
    "    return lambda x : (exp(-1*(((x - u)**2) / (2*v) ) ) / sqrt(2*pi*v))\n",
    "\n",
    "def pdf1(u, v):\n",
    "    return lambda x : 0.5*(1 + erf((x - u)/(sqrt(2*v))))\n",
    "\n",
    "def pdf(x, w, cdf):\n",
    "    a = cdf(x - w/2)\n",
    "    b = cdf(x + w/2)\n",
    "    return b - a"
   ]
  },
  {
   "cell_type": "code",
   "execution_count": 80,
   "metadata": {
    "collapsed": true
   },
   "outputs": [],
   "source": [
    "def sample_u_v(pixels):\n",
    "    pixel_normal = [[[0, 0] for _ in range(28*28)] for _ in range(10)]\n",
    "    var = 10**3\n",
    "\n",
    "    for i in range(10):\n",
    "        for j in range(28*28):\n",
    "        \n",
    "            n = len(pixels[i][j])\n",
    "            u = sum(pixels[i][j]) / n\n",
    "            v = sum([(x - u)**2 for x in pixels[i][j]]) / n\n",
    "            pixel_normal[i][j][0] = u\n",
    "        \n",
    "            if v <= var:\n",
    "                v = var\n",
    "            pixel_normal[i][j][1] = v\n",
    "            pixel_normal[i][j].append(normal(u, v))\n",
    "            pixel_normal[i][j].append(pdf1(u, v))\n",
    "        \n",
    "    return pixel_normal"
   ]
  },
  {
   "cell_type": "code",
   "execution_count": 81,
   "metadata": {
    "collapsed": true
   },
   "outputs": [],
   "source": [
    "def fit_post_cont(test_x, test_y, pixel_normal, cnt_classess):\n",
    "    accuracy = 0\n",
    "    width = 1\n",
    "    ln0 = 10**-10\n",
    "    posterior = [[0 for _ in range(10)] for _ in range(len(test_x))]\n",
    "    for indx, data in enumerate(test_x):\n",
    "        for k in range(10):\n",
    "            for i in range(28*28):\n",
    "           \n",
    "                p = pdf(data[i], width, pixel_normal[k][i][3])\n",
    "\n",
    "                if p <= ln0:\n",
    "                    posterior[indx][k] += log(ln0)\n",
    "                    continue\n",
    "                \n",
    "                posterior[indx][k] += log(p)\n",
    "            posterior[indx][k] += log(cnt_classes[k])\n",
    "    \n",
    "        pred = np.argmax(posterior[indx])\n",
    "        answ = test_y[indx][0]\n",
    "    \n",
    "        if pred == answ:\n",
    "            accuracy += 1\n",
    "   \n",
    "    return posterior, accuracy"
   ]
  },
  {
   "cell_type": "code",
   "execution_count": 82,
   "metadata": {
    "collapsed": true
   },
   "outputs": [],
   "source": [
    "def imagination_continous(pixels,label=3):\n",
    "    pixel_mean=0\n",
    "    img_num =[0 for _ in range (28*28)]\n",
    "    for i in range (784):\n",
    "        pixel_mean =pixels[label][i][0]\n",
    "            \n",
    "        if pixel_mean<=127:\n",
    "            img_num[i]=0\n",
    "            pixel_mean=0\n",
    "        else:\n",
    "            img_num[i]=1 \n",
    "            pixel_mean=0\n",
    "    img_num=np.array(img_num).reshape(28,28)\n",
    "    print(img_num)"
   ]
  },
  {
   "cell_type": "markdown",
   "metadata": {},
   "source": [
    "# Run continous Naive Bayes "
   ]
  },
  {
   "cell_type": "code",
   "execution_count": 83,
   "metadata": {
    "collapsed": true
   },
   "outputs": [],
   "source": [
    "pixels=extract_pixels(train_x.dset,train_y.dset)\n",
    "pixel_normal=sample_u_v(pixels)"
   ]
  },
  {
   "cell_type": "code",
   "execution_count": 84,
   "metadata": {
    "collapsed": true
   },
   "outputs": [],
   "source": [
    "poster, accuracy1 =fit_post_cont(test_x.dset, test_y.dset, pixel_normal, cnt_classes)"
   ]
  },
  {
   "cell_type": "code",
   "execution_count": 85,
   "metadata": {},
   "outputs": [
    {
     "data": {
      "text/plain": [
       "'Continuous accuracy: 0.8508'"
      ]
     },
     "execution_count": 85,
     "metadata": {},
     "output_type": "execute_result"
    }
   ],
   "source": [
    "\"Continuous accuracy: {}\".format(accuracy/len(test_y.dset))"
   ]
  },
  {
   "cell_type": "code",
   "execution_count": 87,
   "metadata": {},
   "outputs": [
    {
     "name": "stdout",
     "output_type": "stream",
     "text": [
      "Posterior (in log scale):\n",
      "\n",
      "0 : 0.10306149487014399\n",
      "1 : 0.11229989126971714\n",
      "2 : 0.10233893586749167\n",
      "3 : 0.10202525967813285\n",
      "4 : 0.0956631808355246\n",
      "5 : 0.09863294727661963\n",
      "6 : 0.10240148473075054\n",
      "7 : 0.09402389601933993\n",
      "8 : 0.09638031611014225\n",
      "9 : 0.09317259334213739\n",
      "index: 9\t label : 9\t predict : 9\n"
     ]
    }
   ],
   "source": [
    "predict(test_y.dset, poster,indx=9)"
   ]
  },
  {
   "cell_type": "code",
   "execution_count": 88,
   "metadata": {},
   "outputs": [
    {
     "name": "stdout",
     "output_type": "stream",
     "text": [
      "[[0 0 0 0 0 0 0 0 0 0 0 0 0 0 0 0 0 0 0 0 0 0 0 0 0 0 0 0]\n",
      " [0 0 0 0 0 0 0 0 0 0 0 0 0 0 0 0 0 0 0 0 0 0 0 0 0 0 0 0]\n",
      " [0 0 0 0 0 0 0 0 0 0 0 0 0 0 0 0 0 0 0 0 0 0 0 0 0 0 0 0]\n",
      " [0 0 0 0 0 0 0 0 0 0 0 0 0 0 0 0 0 0 0 0 0 0 0 0 0 0 0 0]\n",
      " [0 0 0 0 0 0 0 0 0 0 0 0 0 0 0 0 0 0 0 0 0 0 0 0 0 0 0 0]\n",
      " [0 0 0 0 0 0 0 0 0 0 0 0 0 0 0 0 0 0 0 0 0 0 0 0 0 0 0 0]\n",
      " [0 0 0 0 0 0 0 0 0 0 0 0 0 0 0 0 0 0 0 0 0 0 0 0 0 0 0 0]\n",
      " [0 0 0 0 0 0 0 0 0 0 0 0 1 1 1 1 1 1 0 0 0 0 0 0 0 0 0 0]\n",
      " [0 0 0 0 0 0 0 0 0 0 0 1 1 1 1 1 1 1 1 0 0 0 0 0 0 0 0 0]\n",
      " [0 0 0 0 0 0 0 0 0 0 1 1 1 0 0 0 0 1 1 0 0 0 0 0 0 0 0 0]\n",
      " [0 0 0 0 0 0 0 0 0 1 1 1 0 0 0 0 0 1 1 0 0 0 0 0 0 0 0 0]\n",
      " [0 0 0 0 0 0 0 0 0 1 1 0 0 0 0 0 0 1 1 1 0 0 0 0 0 0 0 0]\n",
      " [0 0 0 0 0 0 0 0 1 1 1 0 0 0 0 0 1 1 1 1 0 0 0 0 0 0 0 0]\n",
      " [0 0 0 0 0 0 0 0 1 1 0 0 0 0 0 1 1 1 1 0 0 0 0 0 0 0 0 0]\n",
      " [0 0 0 0 0 0 0 0 0 1 1 0 0 1 1 1 1 1 1 0 0 0 0 0 0 0 0 0]\n",
      " [0 0 0 0 0 0 0 0 0 1 1 1 1 1 1 1 1 1 1 0 0 0 0 0 0 0 0 0]\n",
      " [0 0 0 0 0 0 0 0 0 0 0 0 0 0 1 1 1 1 0 0 0 0 0 0 0 0 0 0]\n",
      " [0 0 0 0 0 0 0 0 0 0 0 0 0 0 0 1 1 1 0 0 0 0 0 0 0 0 0 0]\n",
      " [0 0 0 0 0 0 0 0 0 0 0 0 0 0 0 1 1 0 0 0 0 0 0 0 0 0 0 0]\n",
      " [0 0 0 0 0 0 0 0 0 0 0 0 0 0 0 1 0 0 0 0 0 0 0 0 0 0 0 0]\n",
      " [0 0 0 0 0 0 0 0 0 0 0 0 0 0 0 0 0 0 0 0 0 0 0 0 0 0 0 0]\n",
      " [0 0 0 0 0 0 0 0 0 0 0 0 0 0 0 0 0 0 0 0 0 0 0 0 0 0 0 0]\n",
      " [0 0 0 0 0 0 0 0 0 0 0 0 0 0 0 0 0 0 0 0 0 0 0 0 0 0 0 0]\n",
      " [0 0 0 0 0 0 0 0 0 0 0 0 0 0 0 0 0 0 0 0 0 0 0 0 0 0 0 0]\n",
      " [0 0 0 0 0 0 0 0 0 0 0 0 0 0 0 0 0 0 0 0 0 0 0 0 0 0 0 0]\n",
      " [0 0 0 0 0 0 0 0 0 0 0 0 0 0 0 0 0 0 0 0 0 0 0 0 0 0 0 0]\n",
      " [0 0 0 0 0 0 0 0 0 0 0 0 0 0 0 0 0 0 0 0 0 0 0 0 0 0 0 0]\n",
      " [0 0 0 0 0 0 0 0 0 0 0 0 0 0 0 0 0 0 0 0 0 0 0 0 0 0 0 0]]\n"
     ]
    }
   ],
   "source": [
    "imagination_continous(pixel_normal,label=9)"
   ]
  },
  {
   "cell_type": "code",
   "execution_count": 89,
   "metadata": {},
   "outputs": [
    {
     "data": {
      "text/plain": [
       "'Discrete Error rate : 0.17000000000000004'"
      ]
     },
     "execution_count": 89,
     "metadata": {},
     "output_type": "execute_result"
    }
   ],
   "source": [
    "\"Discrete Error rate : {}\".format(1-(accuracy1/len(test_y.dset)))"
   ]
  },
  {
   "cell_type": "markdown",
   "metadata": {},
   "source": [
    "# Online Learning"
   ]
  },
  {
   "cell_type": "code",
   "execution_count": 90,
   "metadata": {},
   "outputs": [
    {
     "name": "stdout",
     "output_type": "stream",
     "text": [
      "[(22, 13), (7, 5), (12, 9), (41, 37), (22, 13), (7, 4), (12, 7), (123, 111), (52, 28), (45, 26), (48, 22), (43, 22), (43, 21), (59, 32), (38, 16), (46, 23), (38, 15), (56, 27), (39, 18), (33, 16), (37, 21), (55, 30), (71, 36), (44, 21), (58, 23), (66, 32), (62, 36)]\n"
     ]
    }
   ],
   "source": [
    "tosscoin=[]\n",
    "filename='tosscoin.txt'\n",
    "\n",
    "with open(filename,'r') as f:\n",
    "    tosses=f.readlines()\n",
    "    for trail in tosses:\n",
    "        N=len(trail[:-1])\n",
    "        m=0\n",
    "        for i in range(len(trail)):\n",
    "            if trail[i]=='1':\n",
    "                m+=1\n",
    "        tosscoin.append((N,m))\n",
    "print(tosscoin)"
   ]
  },
  {
   "cell_type": "code",
   "execution_count": 91,
   "metadata": {
    "collapsed": true
   },
   "outputs": [],
   "source": [
    "def online_learning(tosscoin, init_a = 0, init_b = 0):\n",
    "    beta_a = init_a\n",
    "    beta_b = init_b\n",
    "\n",
    "    print(\"Prior(a,b) : ({},{})\".format(beta_a, beta_b))\n",
    "    for idx, (N,m) in enumerate(tosscoin):\n",
    "\n",
    "        prior_a = beta_a\n",
    "        prior_b = beta_b\n",
    "        beta_a += m\n",
    "        beta_b += N-m\n",
    "\n",
    "        print(\"Binomial likelihood: {:.3f}\\t Prior(a,b): ({},{})\\t Posterior(a,b): ({},{})\".format(m/N, prior_a, prior_b, beta_a, beta_b))"
   ]
  },
  {
   "cell_type": "code",
   "execution_count": 92,
   "metadata": {},
   "outputs": [
    {
     "name": "stdout",
     "output_type": "stream",
     "text": [
      "Prior(a,b) : (0,0)\n",
      "Binomial likelihood: 0.591\t Prior(a,b): (0,0)\t Posterior(a,b): (13,9)\n",
      "Binomial likelihood: 0.714\t Prior(a,b): (13,9)\t Posterior(a,b): (18,11)\n",
      "Binomial likelihood: 0.750\t Prior(a,b): (18,11)\t Posterior(a,b): (27,14)\n",
      "Binomial likelihood: 0.902\t Prior(a,b): (27,14)\t Posterior(a,b): (64,18)\n",
      "Binomial likelihood: 0.591\t Prior(a,b): (64,18)\t Posterior(a,b): (77,27)\n",
      "Binomial likelihood: 0.571\t Prior(a,b): (77,27)\t Posterior(a,b): (81,30)\n",
      "Binomial likelihood: 0.583\t Prior(a,b): (81,30)\t Posterior(a,b): (88,35)\n",
      "Binomial likelihood: 0.902\t Prior(a,b): (88,35)\t Posterior(a,b): (199,47)\n",
      "Binomial likelihood: 0.538\t Prior(a,b): (199,47)\t Posterior(a,b): (227,71)\n",
      "Binomial likelihood: 0.578\t Prior(a,b): (227,71)\t Posterior(a,b): (253,90)\n",
      "Binomial likelihood: 0.458\t Prior(a,b): (253,90)\t Posterior(a,b): (275,116)\n",
      "Binomial likelihood: 0.512\t Prior(a,b): (275,116)\t Posterior(a,b): (297,137)\n",
      "Binomial likelihood: 0.488\t Prior(a,b): (297,137)\t Posterior(a,b): (318,159)\n",
      "Binomial likelihood: 0.542\t Prior(a,b): (318,159)\t Posterior(a,b): (350,186)\n",
      "Binomial likelihood: 0.421\t Prior(a,b): (350,186)\t Posterior(a,b): (366,208)\n",
      "Binomial likelihood: 0.500\t Prior(a,b): (366,208)\t Posterior(a,b): (389,231)\n",
      "Binomial likelihood: 0.395\t Prior(a,b): (389,231)\t Posterior(a,b): (404,254)\n",
      "Binomial likelihood: 0.482\t Prior(a,b): (404,254)\t Posterior(a,b): (431,283)\n",
      "Binomial likelihood: 0.462\t Prior(a,b): (431,283)\t Posterior(a,b): (449,304)\n",
      "Binomial likelihood: 0.485\t Prior(a,b): (449,304)\t Posterior(a,b): (465,321)\n",
      "Binomial likelihood: 0.568\t Prior(a,b): (465,321)\t Posterior(a,b): (486,337)\n",
      "Binomial likelihood: 0.545\t Prior(a,b): (486,337)\t Posterior(a,b): (516,362)\n",
      "Binomial likelihood: 0.507\t Prior(a,b): (516,362)\t Posterior(a,b): (552,397)\n",
      "Binomial likelihood: 0.477\t Prior(a,b): (552,397)\t Posterior(a,b): (573,420)\n",
      "Binomial likelihood: 0.397\t Prior(a,b): (573,420)\t Posterior(a,b): (596,455)\n",
      "Binomial likelihood: 0.485\t Prior(a,b): (596,455)\t Posterior(a,b): (628,489)\n",
      "Binomial likelihood: 0.581\t Prior(a,b): (628,489)\t Posterior(a,b): (664,515)\n"
     ]
    }
   ],
   "source": [
    "online_learning(tosscoin, init_a=0, init_b=0)"
   ]
  },
  {
   "cell_type": "code",
   "execution_count": 93,
   "metadata": {},
   "outputs": [
    {
     "name": "stdout",
     "output_type": "stream",
     "text": [
      "Prior(a,b) : (10,1)\n",
      "Binomial likelihood: 0.591\t Prior(a,b): (10,1)\t Posterior(a,b): (23,10)\n",
      "Binomial likelihood: 0.714\t Prior(a,b): (23,10)\t Posterior(a,b): (28,12)\n",
      "Binomial likelihood: 0.750\t Prior(a,b): (28,12)\t Posterior(a,b): (37,15)\n",
      "Binomial likelihood: 0.902\t Prior(a,b): (37,15)\t Posterior(a,b): (74,19)\n",
      "Binomial likelihood: 0.591\t Prior(a,b): (74,19)\t Posterior(a,b): (87,28)\n",
      "Binomial likelihood: 0.571\t Prior(a,b): (87,28)\t Posterior(a,b): (91,31)\n",
      "Binomial likelihood: 0.583\t Prior(a,b): (91,31)\t Posterior(a,b): (98,36)\n",
      "Binomial likelihood: 0.902\t Prior(a,b): (98,36)\t Posterior(a,b): (209,48)\n",
      "Binomial likelihood: 0.538\t Prior(a,b): (209,48)\t Posterior(a,b): (237,72)\n",
      "Binomial likelihood: 0.578\t Prior(a,b): (237,72)\t Posterior(a,b): (263,91)\n",
      "Binomial likelihood: 0.458\t Prior(a,b): (263,91)\t Posterior(a,b): (285,117)\n",
      "Binomial likelihood: 0.512\t Prior(a,b): (285,117)\t Posterior(a,b): (307,138)\n",
      "Binomial likelihood: 0.488\t Prior(a,b): (307,138)\t Posterior(a,b): (328,160)\n",
      "Binomial likelihood: 0.542\t Prior(a,b): (328,160)\t Posterior(a,b): (360,187)\n",
      "Binomial likelihood: 0.421\t Prior(a,b): (360,187)\t Posterior(a,b): (376,209)\n",
      "Binomial likelihood: 0.500\t Prior(a,b): (376,209)\t Posterior(a,b): (399,232)\n",
      "Binomial likelihood: 0.395\t Prior(a,b): (399,232)\t Posterior(a,b): (414,255)\n",
      "Binomial likelihood: 0.482\t Prior(a,b): (414,255)\t Posterior(a,b): (441,284)\n",
      "Binomial likelihood: 0.462\t Prior(a,b): (441,284)\t Posterior(a,b): (459,305)\n",
      "Binomial likelihood: 0.485\t Prior(a,b): (459,305)\t Posterior(a,b): (475,322)\n",
      "Binomial likelihood: 0.568\t Prior(a,b): (475,322)\t Posterior(a,b): (496,338)\n",
      "Binomial likelihood: 0.545\t Prior(a,b): (496,338)\t Posterior(a,b): (526,363)\n",
      "Binomial likelihood: 0.507\t Prior(a,b): (526,363)\t Posterior(a,b): (562,398)\n",
      "Binomial likelihood: 0.477\t Prior(a,b): (562,398)\t Posterior(a,b): (583,421)\n",
      "Binomial likelihood: 0.397\t Prior(a,b): (583,421)\t Posterior(a,b): (606,456)\n",
      "Binomial likelihood: 0.485\t Prior(a,b): (606,456)\t Posterior(a,b): (638,490)\n",
      "Binomial likelihood: 0.581\t Prior(a,b): (638,490)\t Posterior(a,b): (674,516)\n"
     ]
    }
   ],
   "source": [
    "online_learning(tosscoin, init_a=10, init_b=1)"
   ]
  },
  {
   "cell_type": "code",
   "execution_count": null,
   "metadata": {
    "collapsed": true
   },
   "outputs": [],
   "source": []
  }
 ],
 "metadata": {
  "kernelspec": {
   "display_name": "Python 3",
   "language": "python",
   "name": "python3"
  },
  "language_info": {
   "codemirror_mode": {
    "name": "ipython",
    "version": 3
   },
   "file_extension": ".py",
   "mimetype": "text/x-python",
   "name": "python",
   "nbconvert_exporter": "python",
   "pygments_lexer": "ipython3",
   "version": "3.7.8"
  }
 },
 "nbformat": 4,
 "nbformat_minor": 2
}
